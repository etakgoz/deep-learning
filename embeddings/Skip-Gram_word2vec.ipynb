{
 "cells": [
  {
   "cell_type": "markdown",
   "metadata": {},
   "source": [
    "# Skip-gram word2vec\n",
    "\n",
    "In this notebook, I'll lead you through using TensorFlow to implement the word2vec algorithm using the skip-gram architecture. By implementing this, you'll learn about embedding words for use in natural language processing. This will come in handy when dealing with things like machine translation.\n",
    "\n",
    "## Readings\n",
    "\n",
    "Here are the resources I used to build this notebook. I suggest reading these either beforehand or while you're working on this material.\n",
    "\n",
    "* A really good [conceptual overview](http://mccormickml.com/2016/04/19/word2vec-tutorial-the-skip-gram-model/) of word2vec from Chris McCormick \n",
    "* [First word2vec paper](https://arxiv.org/pdf/1301.3781.pdf) from Mikolov et al.\n",
    "* [NIPS paper](http://papers.nips.cc/paper/5021-distributed-representations-of-words-and-phrases-and-their-compositionality.pdf) with improvements for word2vec also from Mikolov et al.\n",
    "* An [implementation of word2vec](http://www.thushv.com/natural_language_processing/word2vec-part-1-nlp-with-deep-learning-with-tensorflow-skip-gram/) from Thushan Ganegedara\n",
    "* TensorFlow [word2vec tutorial](https://www.tensorflow.org/tutorials/word2vec)\n",
    "\n",
    "## Word embeddings\n",
    "\n",
    "When you're dealing with words in text, you end up with tens of thousands of classes to predict, one for each word. Trying to one-hot encode these words is massively inefficient, you'll have one element set to 1 and the other 50,000 set to 0. The matrix multiplication going into the first hidden layer will have almost all of the resulting values be zero. This a huge waste of computation. \n",
    "\n",
    "![one-hot encodings](assets/one_hot_encoding.png)\n",
    "\n",
    "To solve this problem and greatly increase the efficiency of our networks, we use what are called embeddings. Embeddings are just a fully connected layer like you've seen before. We call this layer the embedding layer and the weights are embedding weights. We skip the multiplication into the embedding layer by instead directly grabbing the hidden layer values from the weight matrix. We can do this because the multiplication of a one-hot encoded vector with a matrix returns the row of the matrix corresponding the index of the \"on\" input unit.\n",
    "\n",
    "![lookup](assets/lookup_matrix.png)\n",
    "\n",
    "Instead of doing the matrix multiplication, we use the weight matrix as a lookup table. We encode the words as integers, for example \"heart\" is encoded as 958, \"mind\" as 18094. Then to get hidden layer values for \"heart\", you just take the 958th row of the embedding matrix. This process is called an **embedding lookup** and the number of hidden units is the **embedding dimension**.\n",
    "\n",
    "<img src='assets/tokenize_lookup.png' width=500>\n",
    " \n",
    "There is nothing magical going on here. The embedding lookup table is just a weight matrix. The embedding layer is just a hidden layer. The lookup is just a shortcut for the matrix multiplication. The lookup table is trained just like any weight matrix as well.\n",
    "\n",
    "Embeddings aren't only used for words of course. You can use them for any model where you have a massive number of classes. A particular type of model called **Word2Vec** uses the embedding layer to find vector representations of words that contain semantic meaning.\n",
    "\n"
   ]
  },
  {
   "cell_type": "markdown",
   "metadata": {},
   "source": [
    "## Word2Vec\n",
    "\n",
    "The word2vec algorithm finds much more efficient representations by finding vectors that represent the words. These vectors also contain semantic information about the words. Words that show up in similar contexts, such as \"black\", \"white\", and \"red\" will have vectors near each other. There are two architectures for implementing word2vec, CBOW (Continuous Bag-Of-Words) and Skip-gram.\n",
    "\n",
    "<img src=\"assets/word2vec_architectures.png\" width=\"500\">\n",
    "\n",
    "In this implementation, we'll be using the skip-gram architecture because it performs better than CBOW. Here, we pass in a word and try to predict the words surrounding it in the text. In this way, we can train the network to learn representations for words that show up in similar contexts.\n",
    "\n",
    "First up, importing packages."
   ]
  },
  {
   "cell_type": "code",
   "execution_count": 1,
   "metadata": {},
   "outputs": [],
   "source": [
    "import time\n",
    "\n",
    "import numpy as np\n",
    "import tensorflow as tf\n",
    "\n",
    "import utils"
   ]
  },
  {
   "cell_type": "markdown",
   "metadata": {},
   "source": [
    "Load the [text8 dataset](http://mattmahoney.net/dc/textdata.html), a file of cleaned up Wikipedia articles from Matt Mahoney. The next cell will download the data set to the `data` folder. Then you can extract it and delete the archive file to save storage space."
   ]
  },
  {
   "cell_type": "code",
   "execution_count": 2,
   "metadata": {},
   "outputs": [
    {
     "name": "stderr",
     "output_type": "stream",
     "text": [
      "Text8 Dataset: 31.4MB [00:40, 783KB/s]                             \n"
     ]
    }
   ],
   "source": [
    "from urllib.request import urlretrieve\n",
    "from os.path import isfile, isdir\n",
    "from tqdm import tqdm\n",
    "import zipfile\n",
    "\n",
    "dataset_folder_path = 'data'\n",
    "dataset_filename = 'text8.zip'\n",
    "dataset_name = 'Text8 Dataset'\n",
    "\n",
    "class DLProgress(tqdm):\n",
    "    last_block = 0\n",
    "\n",
    "    def hook(self, block_num=1, block_size=1, total_size=None):\n",
    "        self.total = total_size\n",
    "        self.update((block_num - self.last_block) * block_size)\n",
    "        self.last_block = block_num\n",
    "\n",
    "if not isfile(dataset_filename):\n",
    "    with DLProgress(unit='B', unit_scale=True, miniters=1, desc=dataset_name) as pbar:\n",
    "        urlretrieve(\n",
    "            'http://mattmahoney.net/dc/text8.zip',\n",
    "            dataset_filename,\n",
    "            pbar.hook)\n",
    "\n",
    "if not isdir(dataset_folder_path):\n",
    "    with zipfile.ZipFile(dataset_filename) as zip_ref:\n",
    "        zip_ref.extractall(dataset_folder_path)\n",
    "        \n",
    "with open('data/text8') as f:\n",
    "    text = f.read()"
   ]
  },
  {
   "cell_type": "markdown",
   "metadata": {},
   "source": [
    "## Preprocessing\n",
    "\n",
    "Here I'm fixing up the text to make training easier. This comes from the `utils` module I wrote. The `preprocess` function coverts any punctuation into tokens, so a period is changed to ` <PERIOD> `. In this data set, there aren't any periods, but it will help in other NLP problems. I'm also removing all words that show up five or fewer times in the dataset. This will greatly reduce issues due to noise in the data and improve the quality of the vector representations. If you want to write your own functions for this stuff, go for it."
   ]
  },
  {
   "cell_type": "code",
   "execution_count": 6,
   "metadata": {},
   "outputs": [
    {
     "name": "stdout",
     "output_type": "stream",
     "text": [
      " anarchism originated as a ter\n",
      "['anarchism', 'originated', 'as', 'a', 'term', 'of', 'abuse', 'first', 'used', 'against', 'early', 'working', 'class', 'radicals', 'including', 'the', 'diggers', 'of', 'the', 'english', 'revolution', 'and', 'the', 'sans', 'culottes', 'of', 'the', 'french', 'revolution', 'whilst']\n"
     ]
    }
   ],
   "source": [
    "words = utils.preprocess(text)\n",
    "print(words[:30])"
   ]
  },
  {
   "cell_type": "code",
   "execution_count": 4,
   "metadata": {},
   "outputs": [
    {
     "name": "stdout",
     "output_type": "stream",
     "text": [
      "Total words: 16680599\n",
      "Unique words: 63641\n"
     ]
    }
   ],
   "source": [
    "print(\"Total words: {}\".format(len(words)))\n",
    "print(\"Unique words: {}\".format(len(set(words))))"
   ]
  },
  {
   "cell_type": "markdown",
   "metadata": {},
   "source": [
    "And here I'm creating dictionaries to convert words to integers and backwards, integers to words. The integers are assigned in descending frequency order, so the most frequent word (\"the\") is given the integer 0 and the next most frequent is 1 and so on. The words are converted to integers and stored in the list `int_words`."
   ]
  },
  {
   "cell_type": "code",
   "execution_count": 5,
   "metadata": {},
   "outputs": [],
   "source": [
    "vocab_to_int, int_to_vocab = utils.create_lookup_tables(words)\n",
    "int_words = [vocab_to_int[word] for word in words]"
   ]
  },
  {
   "cell_type": "markdown",
   "metadata": {},
   "source": [
    "## Subsampling\n",
    "\n",
    "Words that show up often such as \"the\", \"of\", and \"for\" don't provide much context to the nearby words. If we discard some of them, we can remove some of the noise from our data and in return get faster training and better representations. This process is called subsampling by Mikolov. For each word $w_i$ in the training set, we'll discard it with probability given by \n",
    "\n",
    "$$ P(w_i) = 1 - \\sqrt{\\frac{t}{f(w_i)}} $$\n",
    "\n",
    "where $t$ is a threshold parameter and $f(w_i)$ is the frequency of word $w_i$ in the total dataset.\n",
    "\n",
    "I'm going to leave this up to you as an exercise. This is more of a programming challenge, than about deep learning specifically. But, being able to prepare your data for your network is an important skill to have. Check out my solution to see how I did it.\n",
    "\n",
    "> **Exercise:** Implement subsampling for the words in `int_words`. That is, go through `int_words` and discard each word given the probablility $P(w_i)$ shown above. Note that $P(w_i)$ is the probability that a word is discarded. Assign the subsampled data to `train_words`."
   ]
  },
  {
   "cell_type": "code",
   "execution_count": 30,
   "metadata": {},
   "outputs": [],
   "source": [
    "## Your code here\n",
    "from collections import Counter\n",
    "import random\n",
    "import math\n",
    "\n",
    "def keep_word( threshold, frequency ):\n",
    "    prob = 1 - math.sqrt(threshold / frequency)\n",
    "    rand = random.random()    \n",
    "    return prob < rand\n",
    "\n",
    "word_count = Counter(int_words)\n",
    "threshold = len(word_count.keys())\n",
    "\n",
    "# print(words[3])    \n",
    "# print(keep_word(threshold, word_count[words[3]]))\n",
    "\n",
    "# print(words[0])    \n",
    "# print(keep_word(threshold, word_count[words[0]]))\n",
    "    \n",
    "train_words = []\n",
    "for word in int_words:\n",
    "    if keep_word(threshold, word_count[word]):\n",
    "        train_words.append(word)\n",
    "  \n",
    "# train_words = # The final subsampled word list"
   ]
  },
  {
   "cell_type": "markdown",
   "metadata": {},
   "source": [
    "## Making batches"
   ]
  },
  {
   "cell_type": "markdown",
   "metadata": {},
   "source": [
    "Now that our data is in good shape, we need to get it into the proper form to pass it into our network. With the skip-gram architecture, for each word in the text, we want to grab all the words in a window around that word, with size $C$. \n",
    "\n",
    "From [Mikolov et al.](https://arxiv.org/pdf/1301.3781.pdf): \n",
    "\n",
    "\"Since the more distant words are usually less related to the current word than those close to it, we give less weight to the distant words by sampling less from those words in our training examples... If we choose $C = 5$, for each training word we will select randomly a number $R$ in range $< 1; C >$, and then use $R$ words from history and $R$ words from the future of the current word as correct labels.\"\n",
    "\n",
    "> **Exercise:** Implement a function `get_target` that receives a list of words, an index, and a window size, then returns a list of words in the window around the index. Make sure to use the algorithm described above, where you choose a random number of words from the window."
   ]
  },
  {
   "cell_type": "code",
   "execution_count": 44,
   "metadata": {},
   "outputs": [],
   "source": [
    "def get_target(words, idx, window_size=5):\n",
    "    ''' Get a list of words in a window around an index. '''\n",
    "    r = random.randint(1, window_size+1)\n",
    "    start = idx - r if (idx - r > 0) else 0\n",
    "    end = idx + r\n",
    "    target_words = set(words[start:idx] + words[idx + 1:end + 1])\n",
    "    return list(target_words)\n",
    "    "
   ]
  },
  {
   "cell_type": "markdown",
   "metadata": {},
   "source": [
    "Here's a function that returns batches for our network. The idea is that it grabs `batch_size` words from a words list. Then for each of those words, it gets the target words in the window. I haven't found a way to pass in a random number of target words and get it to work with the architecture, so I make one row per input-target pair. This is a generator function by the way, helps save memory."
   ]
  },
  {
   "cell_type": "code",
   "execution_count": 45,
   "metadata": {},
   "outputs": [],
   "source": [
    "def get_batches(words, batch_size, window_size=5):\n",
    "    ''' Create a generator of word batches as a tuple (inputs, targets) '''\n",
    "    \n",
    "    n_batches = len(words)//batch_size\n",
    "    \n",
    "    # only full batches\n",
    "    words = words[:n_batches*batch_size]\n",
    "    \n",
    "    for idx in range(0, len(words), batch_size):\n",
    "        x, y = [], []\n",
    "        batch = words[idx:idx+batch_size]\n",
    "        for ii in range(len(batch)):\n",
    "            batch_x = batch[ii]\n",
    "            batch_y = get_target(batch, ii, window_size)\n",
    "            y.extend(batch_y)\n",
    "            x.extend([batch_x]*len(batch_y))\n",
    "        yield x, y\n",
    "    "
   ]
  },
  {
   "cell_type": "markdown",
   "metadata": {},
   "source": [
    "## Building the graph\n",
    "\n",
    "From [Chris McCormick's blog](http://mccormickml.com/2016/04/19/word2vec-tutorial-the-skip-gram-model/), we can see the general structure of our network.\n",
    "![embedding_network](./assets/skip_gram_net_arch.png)\n",
    "\n",
    "The input words are passed in as integers. This will go into a hidden layer of linear units, then into a softmax layer. We'll use the softmax layer to make a prediction like normal.\n",
    "\n",
    "The idea here is to train the hidden layer weight matrix to find efficient representations for our words. We can discard the softmax layer becuase we don't really care about making predictions with this network. We just want the embedding matrix so we can use it in other networks we build from the dataset.\n",
    "\n",
    "I'm going to have you build the graph in stages now. First off, creating the `inputs` and `labels` placeholders like normal.\n",
    "\n",
    "> **Exercise:** Assign `inputs` and `labels` using `tf.placeholder`. We're going to be passing in integers, so set the data types to `tf.int32`. The batches we're passing in will have varying sizes, so set the batch sizes to [`None`]. To make things work later, you'll need to set the second dimension of `labels` to `None` or `1`."
   ]
  },
  {
   "cell_type": "code",
   "execution_count": 46,
   "metadata": {},
   "outputs": [],
   "source": [
    "train_graph = tf.Graph()\n",
    "with train_graph.as_default():\n",
    "    inputs = tf.placeholder(tf.int32, [None], name='inputs')\n",
    "    labels = tf.placeholder(tf.int32, [None, None], name='labels')"
   ]
  },
  {
   "cell_type": "markdown",
   "metadata": {},
   "source": [
    "## Embedding\n",
    "\n"
   ]
  },
  {
   "cell_type": "markdown",
   "metadata": {
    "collapsed": true
   },
   "source": [
    "The embedding matrix has a size of the number of words by the number of units in the hidden layer. So, if you have 10,000 words and 300 hidden units, the matrix will have size $10,000 \\times 300$. Remember that we're using tokenized data for our inputs, usually as integers, where the number of tokens is the number of words in our vocabulary.\n",
    "\n",
    "\n",
    "> **Exercise:** Tensorflow provides a convenient function [`tf.nn.embedding_lookup`](https://www.tensorflow.org/api_docs/python/tf/nn/embedding_lookup) that does this lookup for us. You pass in the embedding matrix and a tensor of integers, then it returns rows in the matrix corresponding to those integers. Below, set the number of embedding features you'll use (200 is a good start), create the embedding matrix variable, and use `tf.nn.embedding_lookup` to get the embedding tensors. For the embedding matrix, I suggest you initialize it with a uniform random numbers between -1 and 1 using [tf.random_uniform](https://www.tensorflow.org/api_docs/python/tf/random_uniform)."
   ]
  },
  {
   "cell_type": "code",
   "execution_count": 47,
   "metadata": {},
   "outputs": [],
   "source": [
    "n_vocab = len(int_to_vocab)\n",
    "n_embedding =  200 # Number of embedding features \n",
    "with train_graph.as_default():\n",
    "    embedding = tf.Variable(tf.random_uniform([n_vocab, n_embedding], -1, 1))# create embedding weight matrix here\n",
    "    embed = tf.nn.embedding_lookup(embedding, inputs) # use tf.nn.embedding_lookup to get the hidden layer output"
   ]
  },
  {
   "cell_type": "markdown",
   "metadata": {},
   "source": [
    "## Negative sampling\n",
    "\n"
   ]
  },
  {
   "cell_type": "markdown",
   "metadata": {},
   "source": [
    "For every example we give the network, we train it using the output from the softmax layer. That means for each input, we're making very small changes to millions of weights even though we only have one true example. This makes training the network very inefficient. We can approximate the loss from the softmax layer by only updating a small subset of all the weights at once. We'll update the weights for the correct label, but only a small number of incorrect labels. This is called [\"negative sampling\"](http://papers.nips.cc/paper/5021-distributed-representations-of-words-and-phrases-and-their-compositionality.pdf). Tensorflow has a convenient function to do this, [`tf.nn.sampled_softmax_loss`](https://www.tensorflow.org/api_docs/python/tf/nn/sampled_softmax_loss).\n",
    "\n",
    "> **Exercise:** Below, create weights and biases for the softmax layer. Then, use [`tf.nn.sampled_softmax_loss`](https://www.tensorflow.org/api_docs/python/tf/nn/sampled_softmax_loss) to calculate the loss. Be sure to read the documentation to figure out how it works."
   ]
  },
  {
   "cell_type": "code",
   "execution_count": 48,
   "metadata": {},
   "outputs": [],
   "source": [
    "# Number of negative labels to sample\n",
    "n_sampled = 100\n",
    "with train_graph.as_default():\n",
    "    softmax_w = tf.Variable(tf.truncated_normal((n_vocab, n_embedding), stddev=0.1))# create softmax weight matrix here\n",
    "    softmax_b = tf.Variable(tf.zeros(n_vocab)) # create softmax biases here\n",
    "    \n",
    "    # Calculate the loss using negative sampling\n",
    "    loss = tf.nn.sampled_softmax_loss(softmax_w, softmax_b,\n",
    "                                      labels, embed,\n",
    "                                      n_sampled, n_vocab) \n",
    "    \n",
    "    cost = tf.reduce_mean(loss)\n",
    "    optimizer = tf.train.AdamOptimizer().minimize(cost)"
   ]
  },
  {
   "cell_type": "markdown",
   "metadata": {},
   "source": [
    "## Validation\n",
    "\n",
    "This code is from Thushan Ganegedara's implementation. Here we're going to choose a few common words and few uncommon words. Then, we'll print out the closest words to them. It's a nice way to check that our embedding table is grouping together words with similar semantic meanings."
   ]
  },
  {
   "cell_type": "code",
   "execution_count": 49,
   "metadata": {},
   "outputs": [],
   "source": [
    "with train_graph.as_default():\n",
    "    ## From Thushan Ganegedara's implementation\n",
    "    valid_size = 16 # Random set of words to evaluate similarity on.\n",
    "    valid_window = 100\n",
    "    # pick 8 samples from (0,100) and (1000,1100) each ranges. lower id implies more frequent \n",
    "    valid_examples = np.array(random.sample(range(valid_window), valid_size//2))\n",
    "    valid_examples = np.append(valid_examples, \n",
    "                               random.sample(range(1000,1000+valid_window), valid_size//2))\n",
    "\n",
    "    valid_dataset = tf.constant(valid_examples, dtype=tf.int32)\n",
    "    \n",
    "    # We use the cosine distance:\n",
    "    norm = tf.sqrt(tf.reduce_sum(tf.square(embedding), 1, keep_dims=True))\n",
    "    normalized_embedding = embedding / norm\n",
    "    valid_embedding = tf.nn.embedding_lookup(normalized_embedding, valid_dataset)\n",
    "    similarity = tf.matmul(valid_embedding, tf.transpose(normalized_embedding))"
   ]
  },
  {
   "cell_type": "code",
   "execution_count": 50,
   "metadata": {},
   "outputs": [
    {
     "name": "stdout",
     "output_type": "stream",
     "text": [
      "mkdir: cannot create directory 'checkpoints': File exists\r\n"
     ]
    }
   ],
   "source": [
    "# If the checkpoints directory doesn't exist:\n",
    "!mkdir checkpoints"
   ]
  },
  {
   "cell_type": "markdown",
   "metadata": {},
   "source": [
    "## Training\n",
    "\n",
    "Below is the code to train the network. Every 100 batches it reports the training loss. Every 1000 batches, it'll print out the validation words."
   ]
  },
  {
   "cell_type": "code",
   "execution_count": 51,
   "metadata": {},
   "outputs": [
    {
     "name": "stdout",
     "output_type": "stream",
     "text": [
      "Epoch 1/10 Iteration: 100 Avg. Training loss: 7.6065 0.1058 sec/batch\n",
      "Epoch 1/10 Iteration: 200 Avg. Training loss: 7.3470 0.0983 sec/batch\n",
      "Epoch 1/10 Iteration: 300 Avg. Training loss: 6.9034 0.0990 sec/batch\n",
      "Epoch 1/10 Iteration: 400 Avg. Training loss: 6.4284 0.0994 sec/batch\n",
      "Epoch 1/10 Iteration: 500 Avg. Training loss: 6.0506 0.0992 sec/batch\n",
      "Epoch 1/10 Iteration: 600 Avg. Training loss: 5.8002 0.0991 sec/batch\n",
      "Epoch 1/10 Iteration: 700 Avg. Training loss: 5.5854 0.0987 sec/batch\n",
      "Epoch 1/10 Iteration: 800 Avg. Training loss: 5.3817 0.1000 sec/batch\n",
      "Epoch 1/10 Iteration: 900 Avg. Training loss: 5.2253 0.1016 sec/batch\n",
      "Epoch 1/10 Iteration: 1000 Avg. Training loss: 5.2811 0.1031 sec/batch\n",
      "Nearest to three: mortgages, baroque, setting, cooling, asians, recovered, eight, beyond,\n",
      "Nearest to th: fruiting, decimus, sophie, came, witches, lighting, ward, kilns,\n",
      "Nearest to which: time, pairings, risk, rivals, demand, hay, strides, is,\n",
      "Nearest to about: literature, anything, carbon, secretly, estimated, hamitic, stridently, m,\n",
      "Nearest to eight: mutually, adour, byers, latest, writer, papers, nine, ludwig,\n",
      "Nearest to during: continued, form, remedied, equations, unnecessary, normal, indicate, exiling,\n",
      "Nearest to his: details, storyteller, believe, proto, stopping, corinthians, nepotism, married,\n",
      "Nearest to most: be, pennsylvania, merge, autographed, promoting, expression, aggressively, works,\n",
      "Nearest to pope: animals, landmasses, taught, across, future, enigmatic, four, colleagues,\n",
      "Nearest to http: rain, measure, coward, nicaea, food, increase, atheos, cultivated,\n",
      "Nearest to bill: denominated, cases, arkansas, zuse, brown, datasets, gay, southern,\n",
      "Nearest to channel: shalom, entire, experiments, subroutine, reactant, inferred, ananias, patenting,\n",
      "Nearest to bbc: actually, what, enemies, centuries, tris, labor, endomorphism, origin,\n",
      "Nearest to gold: juror, never, commonly, hinges, religion, timor, depicting, powerful,\n",
      "Nearest to taking: married, era, raw, develop, type, federation, contribution, rear,\n",
      "Nearest to consists: icelandic, main, followed, away, expiration, still, meditation, ayala,\n",
      "Epoch 1/10 Iteration: 1100 Avg. Training loss: 5.2056 0.1040 sec/batch\n",
      "Epoch 1/10 Iteration: 1200 Avg. Training loss: 5.2003 0.1044 sec/batch\n",
      "Epoch 1/10 Iteration: 1300 Avg. Training loss: 5.1028 0.1057 sec/batch\n",
      "Epoch 1/10 Iteration: 1400 Avg. Training loss: 5.1051 0.1066 sec/batch\n",
      "Epoch 1/10 Iteration: 1500 Avg. Training loss: 5.0094 0.1073 sec/batch\n",
      "Epoch 1/10 Iteration: 1600 Avg. Training loss: 5.0632 0.1089 sec/batch\n",
      "Epoch 1/10 Iteration: 1700 Avg. Training loss: 4.9911 0.1098 sec/batch\n",
      "Epoch 1/10 Iteration: 1800 Avg. Training loss: 5.0305 0.1100 sec/batch\n",
      "Epoch 1/10 Iteration: 1900 Avg. Training loss: 5.0010 0.1102 sec/batch\n",
      "Epoch 1/10 Iteration: 2000 Avg. Training loss: 4.8357 0.1114 sec/batch\n",
      "Nearest to three: baroque, europeans, asians, mortgages, woodrow, cooling, extradition, setting,\n",
      "Nearest to th: thrust, fruiting, sophie, decimus, witches, lighting, came, deport,\n",
      "Nearest to which: risk, time, pairings, hay, strides, articulation, demand, rivals,\n",
      "Nearest to about: carbon, literature, screw, pontiac, hamitic, insisted, secretly, consumed,\n",
      "Nearest to eight: mutually, adour, latest, byers, configure, papers, onion, calories,\n",
      "Nearest to during: indicate, continued, remedied, unnecessary, sakura, equations, nineteenth, plants,\n",
      "Nearest to his: storyteller, details, stopping, proto, believe, christmas, corinthians, nepotism,\n",
      "Nearest to most: merge, be, pennsylvania, compatibility, expression, aggressively, autographed, promoting,\n",
      "Nearest to pope: landmasses, grits, enigmatic, animals, four, marta, gerardo, attachment,\n",
      "Nearest to http: rain, coward, increase, measure, nicaea, margaret, regional, refered,\n",
      "Nearest to bill: denominated, richthofen, arkansas, cases, gay, zuse, successors, pla,\n",
      "Nearest to channel: shalom, experiments, incredibly, subroutine, reactant, royce, entire, ananias,\n",
      "Nearest to bbc: beer, melle, tris, sympathy, enemies, actually, subservience, religions,\n",
      "Nearest to gold: juror, never, timor, commonly, hinges, pace, depicting, gale,\n",
      "Nearest to taking: married, era, raw, delete, type, develop, acceptable, meters,\n",
      "Nearest to consists: icelandic, featured, expiration, main, asterisk, pawe, electorate, install,\n",
      "Epoch 1/10 Iteration: 2100 Avg. Training loss: 4.9671 0.1136 sec/batch\n",
      "Epoch 1/10 Iteration: 2200 Avg. Training loss: 4.9200 0.1131 sec/batch\n",
      "Epoch 1/10 Iteration: 2300 Avg. Training loss: 4.9220 0.1138 sec/batch\n",
      "Epoch 1/10 Iteration: 2400 Avg. Training loss: 4.8678 0.1144 sec/batch\n",
      "Epoch 1/10 Iteration: 2500 Avg. Training loss: 4.8641 0.1152 sec/batch\n",
      "Epoch 1/10 Iteration: 2600 Avg. Training loss: 4.8128 0.1155 sec/batch\n",
      "Epoch 1/10 Iteration: 2700 Avg. Training loss: 4.8165 0.1161 sec/batch\n",
      "Epoch 1/10 Iteration: 2800 Avg. Training loss: 4.8648 0.1159 sec/batch\n",
      "Epoch 1/10 Iteration: 2900 Avg. Training loss: 4.8352 0.1162 sec/batch\n",
      "Epoch 1/10 Iteration: 3000 Avg. Training loss: 4.8256 0.1159 sec/batch\n",
      "Nearest to three: baroque, mortgages, asians, europeans, nepos, extradition, collaboration, woodrow,\n",
      "Nearest to th: fruiting, decimus, sophie, thrust, deport, came, sympathy, rancid,\n",
      "Nearest to which: risk, hay, pairings, strides, articulation, time, demand, rivals,\n",
      "Nearest to about: carbon, pontiac, gerrymandering, hamitic, literature, screw, consumed, slotted,\n",
      "Nearest to eight: adour, mutually, byers, latest, configure, keating, calories, steep,\n",
      "Nearest to during: continued, indicate, bloody, sakura, in, unnecessary, suffered, nineteenth,\n",
      "Nearest to his: storyteller, details, stopping, believe, proto, married, christmas, surrenders,\n",
      "Nearest to most: merge, be, compatibility, pennsylvania, aggressively, margins, expression, database,\n",
      "Nearest to pope: grits, landmasses, enigmatic, marta, ukip, four, unep, attachment,\n",
      "Nearest to http: rain, margaret, coward, increase, nicaea, refered, regional, measure,\n",
      "Nearest to bill: denominated, sir, pla, zuse, richthofen, arkansas, successors, gay,\n",
      "Nearest to channel: shalom, royce, reactant, incredibly, subroutine, experiments, ananias, bohemian,\n",
      "Nearest to bbc: beer, melle, kursk, sympathy, subservience, tris, outremer, nursery,\n",
      "Nearest to gold: juror, never, timor, commonly, hinges, scored, pace, wax,\n",
      "Nearest to taking: delete, raw, married, era, type, develop, acceptable, sulfate,\n",
      "Nearest to consists: icelandic, expiration, electorate, pawe, main, featured, percival, asterisk,\n",
      "Epoch 1/10 Iteration: 3100 Avg. Training loss: 4.7903 0.1178 sec/batch\n",
      "Epoch 1/10 Iteration: 3200 Avg. Training loss: 4.8041 0.1172 sec/batch\n",
      "Epoch 1/10 Iteration: 3300 Avg. Training loss: 4.7275 0.1172 sec/batch\n",
      "Epoch 1/10 Iteration: 3400 Avg. Training loss: 4.7071 0.1182 sec/batch\n",
      "Epoch 1/10 Iteration: 3500 Avg. Training loss: 4.7999 0.1198 sec/batch\n",
      "Epoch 1/10 Iteration: 3600 Avg. Training loss: 4.7290 0.1190 sec/batch\n",
      "Epoch 1/10 Iteration: 3700 Avg. Training loss: 4.7700 0.1195 sec/batch\n",
      "Epoch 1/10 Iteration: 3800 Avg. Training loss: 4.7367 0.1197 sec/batch\n",
      "Epoch 1/10 Iteration: 3900 Avg. Training loss: 4.7308 0.1193 sec/batch\n",
      "Epoch 1/10 Iteration: 4000 Avg. Training loss: 4.7724 0.1193 sec/batch\n",
      "Nearest to three: mortgages, baroque, extradition, nepos, asians, eight, commute, europeans,\n",
      "Nearest to th: decimus, fruiting, sophie, thrust, serenity, sympathy, deport, rancid,\n",
      "Nearest to which: articulation, risk, strides, demand, pairings, hay, symbionts, time,\n",
      "Nearest to about: carbon, pontiac, gerrymandering, hamitic, inquiring, screw, apologised, slotted,\n",
      "Nearest to eight: adour, mutually, calories, latest, missal, byers, keating, onion,\n",
      "Nearest to during: continued, sakura, suffered, nineteenth, exiling, nightly, bloody, indicate,\n",
      "Nearest to his: storyteller, married, stopping, details, believe, nepotism, operas, proto,\n",
      "Nearest to most: merge, compatibility, be, palpitations, pennsylvania, aggressively, works, staunchly,\n",
      "Nearest to pope: landmasses, grits, enigmatic, unep, gerardo, marta, casio, ukip,\n",
      "Nearest to http: margaret, coward, rain, increase, nicaea, percentages, refered, nostrand,\n",
      "Nearest to bill: denominated, zuse, sir, pla, richthofen, knots, arkansas, hatta,\n",
      "Nearest to channel: reactant, shalom, royce, poverty, patenting, subroutine, inc, bohemian,\n",
      "Nearest to bbc: lifes, melle, subservience, kursk, outremer, beer, sympathy, repealed,\n",
      "Nearest to gold: juror, timor, never, offending, commonly, hinges, adventurer, scored,\n",
      "Nearest to taking: delete, raw, married, sulfate, vacuoles, type, crean, era,\n",
      "Nearest to consists: icelandic, expiration, pawe, electorate, main, percival, asterisk, featured,\n"
     ]
    },
    {
     "name": "stdout",
     "output_type": "stream",
     "text": [
      "Epoch 1/10 Iteration: 4100 Avg. Training loss: 4.7060 0.1198 sec/batch\n",
      "Epoch 1/10 Iteration: 4200 Avg. Training loss: 4.7699 0.1191 sec/batch\n",
      "Epoch 1/10 Iteration: 4300 Avg. Training loss: 4.7492 0.1192 sec/batch\n",
      "Epoch 1/10 Iteration: 4400 Avg. Training loss: 4.7358 0.1193 sec/batch\n",
      "Epoch 1/10 Iteration: 4500 Avg. Training loss: 4.7069 0.1187 sec/batch\n",
      "Epoch 1/10 Iteration: 4600 Avg. Training loss: 4.6887 0.1190 sec/batch\n",
      "Epoch 1/10 Iteration: 4700 Avg. Training loss: 4.6997 0.1198 sec/batch\n",
      "Epoch 1/10 Iteration: 4800 Avg. Training loss: 4.7207 0.1202 sec/batch\n",
      "Epoch 1/10 Iteration: 4900 Avg. Training loss: 4.7281 0.1198 sec/batch\n",
      "Epoch 1/10 Iteration: 5000 Avg. Training loss: 4.6805 0.1201 sec/batch\n",
      "Nearest to three: eight, caldwell, mortgages, nepos, asians, heng, baroque, extradition,\n",
      "Nearest to th: decimus, fruiting, sophie, ethernet, thrust, doi, serenity, century,\n",
      "Nearest to which: strides, risk, symbionts, pairings, articulation, demand, hay, centromere,\n",
      "Nearest to about: mutants, hamitic, pontiac, slotted, inquiring, gerrymandering, carbon, apologised,\n",
      "Nearest to eight: adour, latest, three, calories, keating, mutually, missal, onion,\n",
      "Nearest to during: continued, sakura, suffered, nineteenth, nightly, bloody, in, exiling,\n",
      "Nearest to his: storyteller, married, stopping, believe, surrenders, details, nepotism, operas,\n",
      "Nearest to most: merge, compatibility, palpitations, archbishopric, be, works, aggressively, pennsylvania,\n",
      "Nearest to pope: grits, landmasses, enigmatic, casio, unep, ukip, gerardo, marta,\n",
      "Nearest to http: margaret, coward, nostrand, increase, regional, nicaea, historical, percentages,\n",
      "Nearest to bill: denominated, zuse, sir, knots, budgetary, successors, richthofen, pla,\n",
      "Nearest to channel: reactant, shalom, royce, patenting, ananias, inc, poverty, tolerances,\n",
      "Nearest to bbc: lifes, melle, subservience, repealed, outremer, kursk, sympathy, nursery,\n",
      "Nearest to gold: juror, timor, never, tonnage, hinges, commonly, wax, leitch,\n",
      "Nearest to taking: delete, raw, crean, sulfate, married, vacuoles, develop, type,\n",
      "Nearest to consists: icelandic, expiration, pawe, percival, electorate, intro, asterisk, main,\n",
      "Epoch 1/10 Iteration: 5100 Avg. Training loss: 4.6953 0.1218 sec/batch\n",
      "Epoch 1/10 Iteration: 5200 Avg. Training loss: 4.6931 0.1205 sec/batch\n",
      "Epoch 1/10 Iteration: 5300 Avg. Training loss: 4.6675 0.1208 sec/batch\n",
      "Epoch 1/10 Iteration: 5400 Avg. Training loss: 4.6679 0.1203 sec/batch\n",
      "Epoch 1/10 Iteration: 5500 Avg. Training loss: 4.7012 0.1201 sec/batch\n",
      "Epoch 1/10 Iteration: 5600 Avg. Training loss: 4.6912 0.1202 sec/batch\n",
      "Epoch 1/10 Iteration: 5700 Avg. Training loss: 4.6839 0.1203 sec/batch\n",
      "Epoch 1/10 Iteration: 5800 Avg. Training loss: 4.6493 0.1209 sec/batch\n",
      "Epoch 1/10 Iteration: 5900 Avg. Training loss: 4.6250 0.1209 sec/batch\n",
      "Epoch 1/10 Iteration: 6000 Avg. Training loss: 4.6520 0.1214 sec/batch\n",
      "Nearest to three: mortgages, asians, caldwell, eight, nepos, stele, extradition, baroque,\n",
      "Nearest to th: fruiting, decimus, ethernet, sophie, guillotine, century, doi, thrust,\n",
      "Nearest to which: strides, risk, pairings, hay, demand, symbionts, articulation, camouflaged,\n",
      "Nearest to about: mutants, pontiac, hamitic, inquiring, slotted, apologised, gerrymandering, feldheim,\n",
      "Nearest to eight: adour, latest, keating, missal, byers, onion, calories, solitaire,\n",
      "Nearest to during: continued, sakura, nineteenth, suffered, in, bloody, nightly, before,\n",
      "Nearest to his: storyteller, married, stopping, surrenders, details, nepotism, operas, arbitron,\n",
      "Nearest to most: merge, palpitations, works, compatibility, archbishopric, aggressively, pennsylvania, margins,\n",
      "Nearest to pope: landmasses, grits, enigmatic, casio, unep, ukip, leo, gerardo,\n",
      "Nearest to http: margaret, coward, historical, rain, nostrand, regional, unn, increase,\n",
      "Nearest to bill: denominated, zuse, sir, knots, budgetary, richthofen, plenary, benford,\n",
      "Nearest to channel: reactant, royce, patenting, shalom, ananias, poverty, inc, blue,\n",
      "Nearest to bbc: lifes, outremer, melle, repealed, kursk, gemma, minicomputer, compaction,\n",
      "Nearest to gold: juror, timor, tonnage, felons, wax, moneo, leitch, adventurer,\n",
      "Nearest to taking: delete, crean, raw, married, sulfate, quail, browsing, vacuoles,\n",
      "Nearest to consists: expiration, icelandic, pawe, intro, electorate, percival, main, evang,\n",
      "Epoch 1/10 Iteration: 6100 Avg. Training loss: 4.6124 0.1227 sec/batch\n",
      "Epoch 1/10 Iteration: 6200 Avg. Training loss: 4.6356 0.1221 sec/batch\n",
      "Epoch 1/10 Iteration: 6300 Avg. Training loss: 4.6736 0.1220 sec/batch\n",
      "Epoch 1/10 Iteration: 6400 Avg. Training loss: 4.6514 0.1222 sec/batch\n",
      "Epoch 1/10 Iteration: 6500 Avg. Training loss: 4.6139 0.1216 sec/batch\n",
      "Epoch 1/10 Iteration: 6600 Avg. Training loss: 4.6655 0.1217 sec/batch\n",
      "Epoch 1/10 Iteration: 6700 Avg. Training loss: 4.6583 0.1213 sec/batch\n",
      "Epoch 1/10 Iteration: 6800 Avg. Training loss: 4.5919 0.1210 sec/batch\n",
      "Epoch 1/10 Iteration: 6900 Avg. Training loss: 4.6476 0.1210 sec/batch\n",
      "Epoch 1/10 Iteration: 7000 Avg. Training loss: 4.5889 0.1213 sec/batch\n",
      "Nearest to three: eight, mortgages, caldwell, krzysztof, separatism, asians, nepos, stele,\n",
      "Nearest to th: fruiting, decimus, sophie, doi, century, ethernet, guillotine, witches,\n",
      "Nearest to which: articulation, symbionts, strides, risk, pairings, demand, floral, hay,\n",
      "Nearest to about: mutants, inquiring, pontiac, hamitic, gerrymandering, slotted, apologised, feldheim,\n",
      "Nearest to eight: adour, three, keating, sven, latest, byers, calories, missal,\n",
      "Nearest to during: continued, sakura, nineteenth, suffered, nightly, exiling, in, kettering,\n",
      "Nearest to his: storyteller, married, surrenders, stopping, arbitron, details, operas, visited,\n",
      "Nearest to most: merge, works, compatibility, palpitations, aggressively, archbishopric, margins, staunchly,\n",
      "Nearest to pope: landmasses, grits, ukip, enigmatic, leo, casio, unep, louis,\n",
      "Nearest to http: margaret, coward, regional, historical, neuroscience, nostrand, unn, increase,\n",
      "Nearest to bill: denominated, zuse, knots, budgetary, gay, sir, hatta, richthofen,\n",
      "Nearest to channel: reactant, royce, shalom, patenting, ananias, inc, poverty, blue,\n",
      "Nearest to bbc: lifes, outremer, melle, structuralist, repealed, myrdal, compaction, gemma,\n",
      "Nearest to gold: juror, timor, felons, tonnage, moneo, wax, leitch, adventurer,\n",
      "Nearest to taking: crean, married, delete, raw, quail, browsing, sulfate, vacuoles,\n",
      "Nearest to consists: expiration, icelandic, pawe, evang, intro, electorate, percival, asc,\n",
      "Epoch 1/10 Iteration: 7100 Avg. Training loss: 4.6062 0.1222 sec/batch\n",
      "Epoch 1/10 Iteration: 7200 Avg. Training loss: 4.6422 0.1217 sec/batch\n",
      "Epoch 1/10 Iteration: 7300 Avg. Training loss: 4.5862 0.1202 sec/batch\n",
      "Epoch 1/10 Iteration: 7400 Avg. Training loss: 4.6123 0.1203 sec/batch\n",
      "Epoch 1/10 Iteration: 7500 Avg. Training loss: 4.6050 0.1205 sec/batch\n",
      "Epoch 1/10 Iteration: 7600 Avg. Training loss: 4.5906 0.1207 sec/batch\n",
      "Epoch 1/10 Iteration: 7700 Avg. Training loss: 4.5821 0.1207 sec/batch\n",
      "Epoch 1/10 Iteration: 7800 Avg. Training loss: 4.5443 0.1225 sec/batch\n",
      "Epoch 1/10 Iteration: 7900 Avg. Training loss: 4.5838 0.1215 sec/batch\n",
      "Epoch 1/10 Iteration: 8000 Avg. Training loss: 4.6226 0.1228 sec/batch\n",
      "Nearest to three: mortgages, eight, caldwell, asians, nepos, krzysztof, separatism, krishnan,\n",
      "Nearest to th: fruiting, decimus, century, doi, sophie, ethernet, guillotine, nakajima,\n",
      "Nearest to which: symbionts, risk, strides, articulation, centromere, hay, demand, exalts,\n",
      "Nearest to about: mutants, inquiring, hamitic, pontiac, gerrymandering, feldheim, slotted, gagged,\n",
      "Nearest to eight: adour, latest, calories, sven, keating, solitaire, onion, three,\n",
      "Nearest to during: continued, sakura, suffered, nineteenth, cke, in, nightly, before,\n",
      "Nearest to his: storyteller, married, surrenders, visited, stopping, arbitron, operas, details,\n",
      "Nearest to most: merge, works, palpitations, archbishopric, evgeny, aggressively, staunchly, margins,\n",
      "Nearest to pope: landmasses, grits, leo, enigmatic, ukip, unep, casio, louis,\n",
      "Nearest to http: com, www, neuroscience, margaret, unn, substratum, regional, coward,\n",
      "Nearest to bill: denominated, zuse, knots, budgetary, richthofen, benford, gay, plenary,\n",
      "Nearest to channel: reactant, royce, patenting, shalom, inc, ananias, poverty, blue,\n",
      "Nearest to bbc: lifes, outremer, melle, compaction, gemma, repealed, pais, structuralist,\n",
      "Nearest to gold: juror, timor, felons, nansen, offending, tonnage, wax, commonly,\n",
      "Nearest to taking: crean, married, delete, quail, raw, sulfate, browsing, qc,\n",
      "Nearest to consists: expiration, pawe, icelandic, evang, intro, percival, repudiating, asc,\n"
     ]
    },
    {
     "name": "stdout",
     "output_type": "stream",
     "text": [
      "Epoch 1/10 Iteration: 8100 Avg. Training loss: 4.6138 0.1237 sec/batch\n",
      "Epoch 1/10 Iteration: 8200 Avg. Training loss: 4.6134 0.1225 sec/batch\n",
      "Epoch 1/10 Iteration: 8300 Avg. Training loss: 4.6284 0.1231 sec/batch\n",
      "Epoch 1/10 Iteration: 8400 Avg. Training loss: 4.6129 0.1220 sec/batch\n",
      "Epoch 1/10 Iteration: 8500 Avg. Training loss: 4.5555 0.1214 sec/batch\n",
      "Epoch 1/10 Iteration: 8600 Avg. Training loss: 4.6101 0.1222 sec/batch\n",
      "Epoch 1/10 Iteration: 8700 Avg. Training loss: 4.6062 0.1216 sec/batch\n",
      "Epoch 1/10 Iteration: 8800 Avg. Training loss: 4.5895 0.1221 sec/batch\n",
      "Epoch 1/10 Iteration: 8900 Avg. Training loss: 4.5814 0.1221 sec/batch\n",
      "Epoch 1/10 Iteration: 9000 Avg. Training loss: 4.6078 0.1228 sec/batch\n",
      "Nearest to three: mortgages, caldwell, eight, nepos, asians, peloponnese, czar, stele,\n",
      "Nearest to th: century, fruiting, decimus, beginning, sophie, ethernet, doi, nineteenth,\n",
      "Nearest to which: symbionts, articulation, hay, strides, risk, centromere, cheering, etudes,\n",
      "Nearest to about: mutants, pontiac, inquiring, hamitic, gagged, feldheim, estimated, gerrymandering,\n",
      "Nearest to eight: adour, latest, calories, keating, solitaire, nilo, sven, three,\n",
      "Nearest to during: continued, suffered, nineteenth, sakura, in, before, nightly, cke,\n",
      "Nearest to his: storyteller, married, visited, arbitron, operas, surrenders, stopping, corinthians,\n",
      "Nearest to most: merge, works, aggressively, archbishopric, palpitations, compatibility, autographed, staunchly,\n",
      "Nearest to pope: landmasses, grits, leo, enigmatic, ukip, louis, unep, casio,\n",
      "Nearest to http: www, com, neuroscience, nostrand, org, htm, unn, substratum,\n",
      "Nearest to bill: denominated, richthofen, zuse, budgetary, arkansas, plenary, knots, gay,\n",
      "Nearest to channel: reactant, patenting, royce, shalom, inc, ananias, blue, sonata,\n",
      "Nearest to bbc: melle, lifes, outremer, compaction, gemma, repealed, pais, jeffersonian,\n",
      "Nearest to gold: juror, felons, moneo, nansen, timor, tonnage, commonly, oases,\n",
      "Nearest to taking: married, crean, quail, qc, delete, browsing, raw, fonseca,\n",
      "Nearest to consists: icelandic, pawe, expiration, evang, intro, electorate, repudiating, percival,\n",
      "Epoch 1/10 Iteration: 9100 Avg. Training loss: 4.5940 0.1240 sec/batch\n",
      "Epoch 1/10 Iteration: 9200 Avg. Training loss: 4.6064 0.1217 sec/batch\n",
      "Epoch 1/10 Iteration: 9300 Avg. Training loss: 4.6193 0.1221 sec/batch\n",
      "Epoch 1/10 Iteration: 9400 Avg. Training loss: 4.5752 0.1225 sec/batch\n",
      "Epoch 1/10 Iteration: 9500 Avg. Training loss: 4.4889 0.1221 sec/batch\n",
      "Epoch 1/10 Iteration: 9600 Avg. Training loss: 4.5529 0.1227 sec/batch\n",
      "Epoch 1/10 Iteration: 9700 Avg. Training loss: 4.5670 0.1227 sec/batch\n",
      "Epoch 1/10 Iteration: 9800 Avg. Training loss: 4.5061 0.1232 sec/batch\n",
      "Epoch 1/10 Iteration: 9900 Avg. Training loss: 4.5418 0.1236 sec/batch\n",
      "Epoch 1/10 Iteration: 10000 Avg. Training loss: 4.5293 0.1235 sec/batch\n",
      "Nearest to three: eight, mortgages, asians, krishnan, nepos, separatism, peloponnese, kwh,\n",
      "Nearest to th: century, fruiting, decimus, ethernet, beginning, nineteenth, came, doi,\n",
      "Nearest to which: symbionts, articulation, strides, risk, camouflaged, centromere, hay, single,\n",
      "Nearest to about: mutants, inquiring, pontiac, hamitic, gagged, feldheim, slotted, acetaminophen,\n",
      "Nearest to eight: latest, adour, nilo, calories, three, sven, keating, solitaire,\n",
      "Nearest to during: continued, suffered, nineteenth, sakura, before, cke, nightly, in,\n",
      "Nearest to his: storyteller, married, arbitron, operas, visited, bark, surrenders, nepotism,\n",
      "Nearest to most: merge, works, compatibility, cheaper, worldwide, palpitations, exclusively, pathophysiology,\n",
      "Nearest to pope: grits, landmasses, leo, enigmatic, ukip, louis, casio, unep,\n",
      "Nearest to http: www, org, neuroscience, com, htm, nostrand, unn, historical,\n",
      "Nearest to bill: denominated, richthofen, zuse, hatta, budgetary, plenary, gay, knots,\n",
      "Nearest to channel: reactant, patenting, shalom, royce, inc, ananias, mayall, blue,\n",
      "Nearest to bbc: lifes, melle, outremer, compaction, jeffersonian, gemma, repealed, minicomputer,\n",
      "Nearest to gold: juror, felons, moneo, timor, nansen, commonly, tonnage, offending,\n",
      "Nearest to taking: crean, quail, delete, sulfate, married, raw, browsing, placebo,\n",
      "Nearest to consists: pawe, icelandic, expiration, evang, intro, repudiating, electorate, baez,\n",
      "Epoch 1/10 Iteration: 10100 Avg. Training loss: 4.5972 0.1256 sec/batch\n",
      "Epoch 1/10 Iteration: 10200 Avg. Training loss: 4.5043 0.1230 sec/batch\n",
      "Epoch 1/10 Iteration: 10300 Avg. Training loss: 4.2003 0.1217 sec/batch\n",
      "Epoch 1/10 Iteration: 10400 Avg. Training loss: 4.5356 0.1217 sec/batch\n",
      "Epoch 1/10 Iteration: 10500 Avg. Training loss: 4.3923 0.1217 sec/batch\n",
      "Epoch 1/10 Iteration: 10600 Avg. Training loss: 4.4723 0.1219 sec/batch\n",
      "Epoch 1/10 Iteration: 10700 Avg. Training loss: 4.5448 0.1221 sec/batch\n",
      "Epoch 1/10 Iteration: 10800 Avg. Training loss: 4.5387 0.1219 sec/batch\n",
      "Epoch 1/10 Iteration: 10900 Avg. Training loss: 4.5767 0.1222 sec/batch\n",
      "Epoch 1/10 Iteration: 11000 Avg. Training loss: 4.6014 0.1222 sec/batch\n",
      "Nearest to three: mortgages, czar, stele, peloponnese, baroque, annabel, krzysztof, automata,\n",
      "Nearest to th: century, decimus, fruiting, beginning, ethernet, nineteenth, nakajima, doi,\n",
      "Nearest to which: symbionts, strides, articulation, centromere, palin, risk, hay, tragedy,\n",
      "Nearest to about: inquiring, mutants, pontiac, hamitic, gagged, slotted, feldheim, something,\n",
      "Nearest to eight: latest, nilo, adour, calories, strau, sven, solitaire, missal,\n",
      "Nearest to during: suffered, continued, nineteenth, sakura, in, before, bombing, cke,\n",
      "Nearest to his: storyteller, bark, operas, arbitron, married, nepotism, visited, congratulated,\n",
      "Nearest to most: works, merge, archbishopric, worldwide, staunchly, palpitations, evgeny, cheaper,\n",
      "Nearest to pope: leo, grits, landmasses, ukip, louis, princess, boleyn, gerardo,\n",
      "Nearest to http: www, htm, org, com, neuroscience, nostrand, unn, historical,\n",
      "Nearest to bill: denominated, plenary, richthofen, zuse, hatta, benford, budgetary, gay,\n",
      "Nearest to channel: reactant, patenting, shalom, royce, inc, ananias, mayall, sonata,\n",
      "Nearest to bbc: outremer, melle, jeffersonian, bluescreen, gemma, lifes, compaction, canada,\n",
      "Nearest to gold: juror, felons, moneo, nansen, timor, tonnage, offending, leitch,\n",
      "Nearest to taking: crean, married, quail, sulfate, delete, placebo, fonseca, browsing,\n",
      "Nearest to consists: pawe, icelandic, evang, expiration, resignations, repudiating, intro, electorate,\n",
      "Epoch 1/10 Iteration: 11100 Avg. Training loss: 4.6145 0.1240 sec/batch\n",
      "Epoch 1/10 Iteration: 11200 Avg. Training loss: 4.6238 0.1218 sec/batch\n",
      "Epoch 1/10 Iteration: 11300 Avg. Training loss: 4.5911 0.1224 sec/batch\n",
      "Epoch 1/10 Iteration: 11400 Avg. Training loss: 4.5855 0.1222 sec/batch\n",
      "Epoch 1/10 Iteration: 11500 Avg. Training loss: 4.3872 0.1225 sec/batch\n",
      "Epoch 1/10 Iteration: 11600 Avg. Training loss: 4.5757 0.1230 sec/batch\n",
      "Epoch 1/10 Iteration: 11700 Avg. Training loss: 4.5811 0.1224 sec/batch\n",
      "Epoch 1/10 Iteration: 11800 Avg. Training loss: 4.5341 0.1225 sec/batch\n",
      "Epoch 1/10 Iteration: 11900 Avg. Training loss: 4.5819 0.1228 sec/batch\n",
      "Epoch 1/10 Iteration: 12000 Avg. Training loss: 4.5576 0.1226 sec/batch\n",
      "Nearest to three: mortgages, stele, loaves, czar, mussel, asians, muscovite, lionheart,\n",
      "Nearest to th: century, decimus, fruiting, ethernet, beginning, doi, nakajima, came,\n",
      "Nearest to which: symbionts, articulation, strides, single, camouflaged, centromere, cheering, tragedy,\n",
      "Nearest to about: pontiac, mutants, inquiring, hamitic, slotted, gagged, astrolabe, something,\n",
      "Nearest to eight: nilo, calories, latest, adour, solitaire, strau, sven, missal,\n",
      "Nearest to during: suffered, continued, nineteenth, sakura, cke, before, bombing, crist,\n",
      "Nearest to his: storyteller, bark, arbitron, operas, congratulated, nepotism, married, surrenders,\n",
      "Nearest to most: works, merge, worldwide, exclusively, pathophysiology, palpitations, cheaper, salieri,\n",
      "Nearest to pope: grits, leo, landmasses, louis, ukip, boleyn, enigmatic, princess,\n",
      "Nearest to http: www, htm, org, com, neuroscience, historical, nostrand, unn,\n",
      "Nearest to bill: denominated, plenary, zuse, hatta, richthofen, budgetary, benford, gay,\n",
      "Nearest to channel: reactant, patenting, shalom, royce, inc, ananias, entire, blue,\n",
      "Nearest to bbc: outremer, jeffersonian, bluescreen, melle, gemma, lifes, compaction, circumnavigation,\n",
      "Nearest to gold: juror, nansen, moneo, felons, timor, tonnage, commonly, leitch,\n",
      "Nearest to taking: crean, married, quail, placebo, delete, browsing, raw, fonseca,\n",
      "Nearest to consists: pawe, evang, expiration, icelandic, repudiating, resignations, intro, branch,\n"
     ]
    },
    {
     "name": "stdout",
     "output_type": "stream",
     "text": [
      "Epoch 1/10 Iteration: 12100 Avg. Training loss: 4.5810 0.1232 sec/batch\n",
      "Epoch 1/10 Iteration: 12200 Avg. Training loss: 4.5386 0.1215 sec/batch\n",
      "Epoch 1/10 Iteration: 12300 Avg. Training loss: 4.5510 0.1219 sec/batch\n",
      "Epoch 1/10 Iteration: 12400 Avg. Training loss: 4.3927 0.1218 sec/batch\n",
      "Epoch 1/10 Iteration: 12500 Avg. Training loss: 4.4121 0.1226 sec/batch\n",
      "Epoch 1/10 Iteration: 12600 Avg. Training loss: 4.5368 0.1231 sec/batch\n",
      "Epoch 1/10 Iteration: 12700 Avg. Training loss: 4.4844 0.1231 sec/batch\n",
      "Epoch 1/10 Iteration: 12800 Avg. Training loss: 4.4607 0.1225 sec/batch\n",
      "Epoch 1/10 Iteration: 12900 Avg. Training loss: 4.5190 0.1224 sec/batch\n",
      "Epoch 1/10 Iteration: 13000 Avg. Training loss: 4.5424 0.1226 sec/batch\n",
      "Nearest to three: mortgages, annabel, krzysztof, mussel, caldwell, stele, lionheart, eight,\n",
      "Nearest to th: century, decimus, nakajima, beginning, nineteenth, doi, fruiting, ethernet,\n",
      "Nearest to which: symbionts, strides, single, camouflaged, articulation, centromere, demand, exalts,\n",
      "Nearest to about: inquiring, pontiac, mutants, hamitic, astrolabe, gagged, acetaminophen, slotted,\n",
      "Nearest to eight: adour, nilo, strau, calories, latest, sven, amiens, solitaire,\n",
      "Nearest to during: suffered, continued, nineteenth, sakura, in, before, cke, bombing,\n",
      "Nearest to his: storyteller, bark, arbitron, operas, congratulated, surrenders, nepotism, married,\n",
      "Nearest to most: works, merge, worldwide, exclusively, cheaper, palpitations, evgeny, pathophysiology,\n",
      "Nearest to pope: leo, grits, landmasses, louis, ukip, boleyn, princess, enigmatic,\n",
      "Nearest to http: www, htm, org, com, neuroscience, nostrand, historical, directory,\n",
      "Nearest to bill: denominated, plenary, zuse, richthofen, hatta, budgetary, gay, chlorofluorocarbons,\n",
      "Nearest to channel: reactant, patenting, shalom, inc, royce, entire, blue, ananias,\n",
      "Nearest to bbc: outremer, jeffersonian, gemma, bluescreen, melle, circumnavigation, cvs, lifes,\n",
      "Nearest to gold: juror, nansen, felons, moneo, commonly, timor, tonnage, offending,\n",
      "Nearest to taking: crean, quail, placebo, married, delete, challenge, showcasing, fonseca,\n",
      "Nearest to consists: pawe, evang, branch, expiration, icelandic, resignations, repudiating, electorate,\n",
      "Epoch 1/10 Iteration: 13100 Avg. Training loss: 4.5197 0.1231 sec/batch\n",
      "Epoch 1/10 Iteration: 13200 Avg. Training loss: 4.4600 0.1210 sec/batch\n",
      "Epoch 1/10 Iteration: 13300 Avg. Training loss: 4.5309 0.1213 sec/batch\n",
      "Epoch 1/10 Iteration: 13400 Avg. Training loss: 4.5121 0.1215 sec/batch\n",
      "Epoch 1/10 Iteration: 13500 Avg. Training loss: 4.5683 0.1213 sec/batch\n",
      "Epoch 2/10 Iteration: 13600 Avg. Training loss: 4.5557 0.0174 sec/batch\n",
      "Epoch 2/10 Iteration: 13700 Avg. Training loss: 4.5297 0.1215 sec/batch\n",
      "Epoch 2/10 Iteration: 13800 Avg. Training loss: 4.4901 0.1217 sec/batch\n",
      "Epoch 2/10 Iteration: 13900 Avg. Training loss: 4.5196 0.1234 sec/batch\n",
      "Epoch 2/10 Iteration: 14000 Avg. Training loss: 4.5004 0.1230 sec/batch\n",
      "Nearest to three: mortgages, stele, annabel, czar, lionheart, krishnan, caldwell, nepos,\n",
      "Nearest to th: century, decimus, nakajima, nineteenth, beginning, doi, period, fruiting,\n",
      "Nearest to which: symbionts, camouflaged, single, articulation, tragedy, strides, melting, hay,\n",
      "Nearest to about: inquiring, mutants, pontiac, gagged, astrolabe, feldheim, acetaminophen, estimated,\n",
      "Nearest to eight: nilo, adour, strau, calories, latest, solitaire, sven, amiens,\n",
      "Nearest to during: suffered, nineteenth, continued, in, before, sakura, cke, nightly,\n",
      "Nearest to his: storyteller, bark, arbitron, ecologists, corinthians, married, congratulated, stopping,\n",
      "Nearest to most: works, merge, palpitations, exclusively, worldwide, cheaper, evgeny, staunchly,\n",
      "Nearest to pope: leo, grits, landmasses, ukip, louis, boleyn, enigmatic, interregnum,\n",
      "Nearest to http: www, htm, org, com, historical, nostrand, directory, mail,\n",
      "Nearest to bill: denominated, plenary, zuse, hatta, richthofen, chlorofluorocarbons, gay, budgetary,\n",
      "Nearest to channel: reactant, patenting, inc, royce, shalom, entire, melodramas, blue,\n",
      "Nearest to bbc: outremer, bluescreen, gemma, jeffersonian, lifes, cvs, melle, external,\n",
      "Nearest to gold: juror, nansen, moneo, felons, silver, commonly, tonnage, timor,\n",
      "Nearest to taking: crean, quail, married, placebo, challenge, delete, qc, fonseca,\n",
      "Nearest to consists: pawe, evang, icelandic, expiration, branch, resignations, electorate, repudiating,\n",
      "Epoch 2/10 Iteration: 14100 Avg. Training loss: 4.4641 0.1236 sec/batch\n",
      "Epoch 2/10 Iteration: 14200 Avg. Training loss: 4.4820 0.1226 sec/batch\n",
      "Epoch 2/10 Iteration: 14300 Avg. Training loss: 4.5047 0.1220 sec/batch\n",
      "Epoch 2/10 Iteration: 14400 Avg. Training loss: 4.4101 0.1214 sec/batch\n",
      "Epoch 2/10 Iteration: 14500 Avg. Training loss: 4.4113 0.1211 sec/batch\n",
      "Epoch 2/10 Iteration: 14600 Avg. Training loss: 4.5019 0.1206 sec/batch\n",
      "Epoch 2/10 Iteration: 14700 Avg. Training loss: 4.4656 0.1207 sec/batch\n",
      "Epoch 2/10 Iteration: 14800 Avg. Training loss: 4.4784 0.1216 sec/batch\n",
      "Epoch 2/10 Iteration: 14900 Avg. Training loss: 4.4936 0.1209 sec/batch\n",
      "Epoch 2/10 Iteration: 15000 Avg. Training loss: 4.4887 0.1211 sec/batch\n",
      "Nearest to three: czar, caldwell, stele, mortgages, annabel, krzysztof, nepos, zirconium,\n",
      "Nearest to th: century, nakajima, decimus, beginning, nineteenth, doi, sophie, early,\n",
      "Nearest to which: symbionts, single, camouflaged, articulation, etudes, lake, hay, melting,\n",
      "Nearest to about: inquiring, mutants, pontiac, gagged, feldheim, astrolabe, estimated, slotted,\n",
      "Nearest to eight: nilo, adour, strau, calories, solitaire, sven, latest, amiens,\n",
      "Nearest to during: suffered, nineteenth, continued, sakura, before, in, cke, deadlock,\n",
      "Nearest to his: storyteller, bark, arbitron, ecologists, nepotism, stopping, operas, visited,\n",
      "Nearest to most: works, merge, worldwide, palpitations, cheaper, exclusively, staunchly, pathophysiology,\n",
      "Nearest to pope: leo, grits, landmasses, ukip, boleyn, louis, casio, nestorianism,\n",
      "Nearest to http: www, htm, org, com, directory, unofficial, nostrand, historical,\n",
      "Nearest to bill: denominated, plenary, zuse, hatta, richthofen, gay, chlorofluorocarbons, budgetary,\n",
      "Nearest to channel: reactant, patenting, royce, inc, shalom, entire, ananias, nahr,\n",
      "Nearest to bbc: outremer, bluescreen, external, gemma, jeffersonian, cvs, asm, monday,\n",
      "Nearest to gold: juror, nansen, moneo, felons, silver, tonnage, timor, leitch,\n",
      "Nearest to taking: delete, placebo, challenge, crean, quail, visceral, browsing, raw,\n",
      "Nearest to consists: pawe, evang, branch, expiration, icelandic, resignations, leucippus, usually,\n",
      "Epoch 2/10 Iteration: 15100 Avg. Training loss: 4.5031 0.1223 sec/batch\n",
      "Epoch 2/10 Iteration: 15200 Avg. Training loss: 4.5008 0.1215 sec/batch\n",
      "Epoch 2/10 Iteration: 15300 Avg. Training loss: 4.4819 0.1219 sec/batch\n",
      "Epoch 2/10 Iteration: 15400 Avg. Training loss: 4.4953 0.1213 sec/batch\n",
      "Epoch 2/10 Iteration: 15500 Avg. Training loss: 4.4988 0.1213 sec/batch\n",
      "Epoch 2/10 Iteration: 15600 Avg. Training loss: 4.3438 0.1220 sec/batch\n",
      "Epoch 2/10 Iteration: 15700 Avg. Training loss: 4.5224 0.1224 sec/batch\n",
      "Epoch 2/10 Iteration: 15800 Avg. Training loss: 4.5058 0.1225 sec/batch\n",
      "Epoch 2/10 Iteration: 15900 Avg. Training loss: 4.5277 0.1226 sec/batch\n"
     ]
    },
    {
     "ename": "KeyboardInterrupt",
     "evalue": "",
     "output_type": "error",
     "traceback": [
      "\u001b[0;31m---------------------------------------------------------------------------\u001b[0m",
      "\u001b[0;31mKeyboardInterrupt\u001b[0m                         Traceback (most recent call last)",
      "\u001b[0;32m<ipython-input-51-6d252857543a>\u001b[0m in \u001b[0;36m<module>\u001b[0;34m()\u001b[0m\n\u001b[1;32m     18\u001b[0m             feed = {inputs: x,\n\u001b[1;32m     19\u001b[0m                     labels: np.array(y)[:, None]}\n\u001b[0;32m---> 20\u001b[0;31m             \u001b[0mtrain_loss\u001b[0m\u001b[0;34m,\u001b[0m \u001b[0m_\u001b[0m \u001b[0;34m=\u001b[0m \u001b[0msess\u001b[0m\u001b[0;34m.\u001b[0m\u001b[0mrun\u001b[0m\u001b[0;34m(\u001b[0m\u001b[0;34m[\u001b[0m\u001b[0mcost\u001b[0m\u001b[0;34m,\u001b[0m \u001b[0moptimizer\u001b[0m\u001b[0;34m]\u001b[0m\u001b[0;34m,\u001b[0m \u001b[0mfeed_dict\u001b[0m\u001b[0;34m=\u001b[0m\u001b[0mfeed\u001b[0m\u001b[0;34m)\u001b[0m\u001b[0;34m\u001b[0m\u001b[0m\n\u001b[0m\u001b[1;32m     21\u001b[0m \u001b[0;34m\u001b[0m\u001b[0m\n\u001b[1;32m     22\u001b[0m             \u001b[0mloss\u001b[0m \u001b[0;34m+=\u001b[0m \u001b[0mtrain_loss\u001b[0m\u001b[0;34m\u001b[0m\u001b[0m\n",
      "\u001b[0;32m/usr/local/lib/python3.5/dist-packages/tensorflow/python/client/session.py\u001b[0m in \u001b[0;36mrun\u001b[0;34m(self, fetches, feed_dict, options, run_metadata)\u001b[0m\n\u001b[1;32m    765\u001b[0m     \u001b[0;32mtry\u001b[0m\u001b[0;34m:\u001b[0m\u001b[0;34m\u001b[0m\u001b[0m\n\u001b[1;32m    766\u001b[0m       result = self._run(None, fetches, feed_dict, options_ptr,\n\u001b[0;32m--> 767\u001b[0;31m                          run_metadata_ptr)\n\u001b[0m\u001b[1;32m    768\u001b[0m       \u001b[0;32mif\u001b[0m \u001b[0mrun_metadata\u001b[0m\u001b[0;34m:\u001b[0m\u001b[0;34m\u001b[0m\u001b[0m\n\u001b[1;32m    769\u001b[0m         \u001b[0mproto_data\u001b[0m \u001b[0;34m=\u001b[0m \u001b[0mtf_session\u001b[0m\u001b[0;34m.\u001b[0m\u001b[0mTF_GetBuffer\u001b[0m\u001b[0;34m(\u001b[0m\u001b[0mrun_metadata_ptr\u001b[0m\u001b[0;34m)\u001b[0m\u001b[0;34m\u001b[0m\u001b[0m\n",
      "\u001b[0;32m/usr/local/lib/python3.5/dist-packages/tensorflow/python/client/session.py\u001b[0m in \u001b[0;36m_run\u001b[0;34m(self, handle, fetches, feed_dict, options, run_metadata)\u001b[0m\n\u001b[1;32m    963\u001b[0m     \u001b[0;32mif\u001b[0m \u001b[0mfinal_fetches\u001b[0m \u001b[0;32mor\u001b[0m \u001b[0mfinal_targets\u001b[0m\u001b[0;34m:\u001b[0m\u001b[0;34m\u001b[0m\u001b[0m\n\u001b[1;32m    964\u001b[0m       results = self._do_run(handle, final_targets, final_fetches,\n\u001b[0;32m--> 965\u001b[0;31m                              feed_dict_string, options, run_metadata)\n\u001b[0m\u001b[1;32m    966\u001b[0m     \u001b[0;32melse\u001b[0m\u001b[0;34m:\u001b[0m\u001b[0;34m\u001b[0m\u001b[0m\n\u001b[1;32m    967\u001b[0m       \u001b[0mresults\u001b[0m \u001b[0;34m=\u001b[0m \u001b[0;34m[\u001b[0m\u001b[0;34m]\u001b[0m\u001b[0;34m\u001b[0m\u001b[0m\n",
      "\u001b[0;32m/usr/local/lib/python3.5/dist-packages/tensorflow/python/client/session.py\u001b[0m in \u001b[0;36m_do_run\u001b[0;34m(self, handle, target_list, fetch_list, feed_dict, options, run_metadata)\u001b[0m\n\u001b[1;32m   1013\u001b[0m     \u001b[0;32mif\u001b[0m \u001b[0mhandle\u001b[0m \u001b[0;32mis\u001b[0m \u001b[0;32mNone\u001b[0m\u001b[0;34m:\u001b[0m\u001b[0;34m\u001b[0m\u001b[0m\n\u001b[1;32m   1014\u001b[0m       return self._do_call(_run_fn, self._session, feed_dict, fetch_list,\n\u001b[0;32m-> 1015\u001b[0;31m                            target_list, options, run_metadata)\n\u001b[0m\u001b[1;32m   1016\u001b[0m     \u001b[0;32melse\u001b[0m\u001b[0;34m:\u001b[0m\u001b[0;34m\u001b[0m\u001b[0m\n\u001b[1;32m   1017\u001b[0m       return self._do_call(_prun_fn, self._session, handle, feed_dict,\n",
      "\u001b[0;32m/usr/local/lib/python3.5/dist-packages/tensorflow/python/client/session.py\u001b[0m in \u001b[0;36m_do_call\u001b[0;34m(self, fn, *args)\u001b[0m\n\u001b[1;32m   1020\u001b[0m   \u001b[0;32mdef\u001b[0m \u001b[0m_do_call\u001b[0m\u001b[0;34m(\u001b[0m\u001b[0mself\u001b[0m\u001b[0;34m,\u001b[0m \u001b[0mfn\u001b[0m\u001b[0;34m,\u001b[0m \u001b[0;34m*\u001b[0m\u001b[0margs\u001b[0m\u001b[0;34m)\u001b[0m\u001b[0;34m:\u001b[0m\u001b[0;34m\u001b[0m\u001b[0m\n\u001b[1;32m   1021\u001b[0m     \u001b[0;32mtry\u001b[0m\u001b[0;34m:\u001b[0m\u001b[0;34m\u001b[0m\u001b[0m\n\u001b[0;32m-> 1022\u001b[0;31m       \u001b[0;32mreturn\u001b[0m \u001b[0mfn\u001b[0m\u001b[0;34m(\u001b[0m\u001b[0;34m*\u001b[0m\u001b[0margs\u001b[0m\u001b[0;34m)\u001b[0m\u001b[0;34m\u001b[0m\u001b[0m\n\u001b[0m\u001b[1;32m   1023\u001b[0m     \u001b[0;32mexcept\u001b[0m \u001b[0merrors\u001b[0m\u001b[0;34m.\u001b[0m\u001b[0mOpError\u001b[0m \u001b[0;32mas\u001b[0m \u001b[0me\u001b[0m\u001b[0;34m:\u001b[0m\u001b[0;34m\u001b[0m\u001b[0m\n\u001b[1;32m   1024\u001b[0m       \u001b[0mmessage\u001b[0m \u001b[0;34m=\u001b[0m \u001b[0mcompat\u001b[0m\u001b[0;34m.\u001b[0m\u001b[0mas_text\u001b[0m\u001b[0;34m(\u001b[0m\u001b[0me\u001b[0m\u001b[0;34m.\u001b[0m\u001b[0mmessage\u001b[0m\u001b[0;34m)\u001b[0m\u001b[0;34m\u001b[0m\u001b[0m\n",
      "\u001b[0;32m/usr/local/lib/python3.5/dist-packages/tensorflow/python/client/session.py\u001b[0m in \u001b[0;36m_run_fn\u001b[0;34m(session, feed_dict, fetch_list, target_list, options, run_metadata)\u001b[0m\n\u001b[1;32m   1002\u001b[0m         return tf_session.TF_Run(session, options,\n\u001b[1;32m   1003\u001b[0m                                  \u001b[0mfeed_dict\u001b[0m\u001b[0;34m,\u001b[0m \u001b[0mfetch_list\u001b[0m\u001b[0;34m,\u001b[0m \u001b[0mtarget_list\u001b[0m\u001b[0;34m,\u001b[0m\u001b[0;34m\u001b[0m\u001b[0m\n\u001b[0;32m-> 1004\u001b[0;31m                                  status, run_metadata)\n\u001b[0m\u001b[1;32m   1005\u001b[0m \u001b[0;34m\u001b[0m\u001b[0m\n\u001b[1;32m   1006\u001b[0m     \u001b[0;32mdef\u001b[0m \u001b[0m_prun_fn\u001b[0m\u001b[0;34m(\u001b[0m\u001b[0msession\u001b[0m\u001b[0;34m,\u001b[0m \u001b[0mhandle\u001b[0m\u001b[0;34m,\u001b[0m \u001b[0mfeed_dict\u001b[0m\u001b[0;34m,\u001b[0m \u001b[0mfetch_list\u001b[0m\u001b[0;34m)\u001b[0m\u001b[0;34m:\u001b[0m\u001b[0;34m\u001b[0m\u001b[0m\n",
      "\u001b[0;31mKeyboardInterrupt\u001b[0m: "
     ]
    }
   ],
   "source": [
    "epochs = 10\n",
    "batch_size = 1000\n",
    "window_size = 10\n",
    "\n",
    "with train_graph.as_default():\n",
    "    saver = tf.train.Saver()\n",
    "\n",
    "with tf.Session(graph=train_graph) as sess:\n",
    "    iteration = 1\n",
    "    loss = 0\n",
    "    sess.run(tf.global_variables_initializer())\n",
    "\n",
    "    for e in range(1, epochs+1):\n",
    "        batches = get_batches(train_words, batch_size, window_size)\n",
    "        start = time.time()\n",
    "        for x, y in batches:\n",
    "            \n",
    "            feed = {inputs: x,\n",
    "                    labels: np.array(y)[:, None]}\n",
    "            train_loss, _ = sess.run([cost, optimizer], feed_dict=feed)\n",
    "            \n",
    "            loss += train_loss\n",
    "            \n",
    "            if iteration % 100 == 0: \n",
    "                end = time.time()\n",
    "                print(\"Epoch {}/{}\".format(e, epochs),\n",
    "                      \"Iteration: {}\".format(iteration),\n",
    "                      \"Avg. Training loss: {:.4f}\".format(loss/100),\n",
    "                      \"{:.4f} sec/batch\".format((end-start)/100))\n",
    "                loss = 0\n",
    "                start = time.time()\n",
    "            \n",
    "            if iteration % 1000 == 0:\n",
    "                ## From Thushan Ganegedara's implementation\n",
    "                # note that this is expensive (~20% slowdown if computed every 500 steps)\n",
    "                sim = similarity.eval()\n",
    "                for i in range(valid_size):\n",
    "                    valid_word = int_to_vocab[valid_examples[i]]\n",
    "                    top_k = 8 # number of nearest neighbors\n",
    "                    nearest = (-sim[i, :]).argsort()[1:top_k+1]\n",
    "                    log = 'Nearest to %s:' % valid_word\n",
    "                    for k in range(top_k):\n",
    "                        close_word = int_to_vocab[nearest[k]]\n",
    "                        log = '%s %s,' % (log, close_word)\n",
    "                    print(log)\n",
    "            \n",
    "            iteration += 1\n",
    "    save_path = saver.save(sess, \"checkpoints/text8.ckpt\")\n",
    "    embed_mat = sess.run(normalized_embedding)"
   ]
  },
  {
   "cell_type": "markdown",
   "metadata": {},
   "source": [
    "Restore the trained network if you need to:"
   ]
  },
  {
   "cell_type": "code",
   "execution_count": null,
   "metadata": {
    "collapsed": true
   },
   "outputs": [],
   "source": [
    "with train_graph.as_default():\n",
    "    saver = tf.train.Saver()\n",
    "\n",
    "with tf.Session(graph=train_graph) as sess:\n",
    "    saver.restore(sess, tf.train.latest_checkpoint('checkpoints'))\n",
    "    embed_mat = sess.run(embedding)"
   ]
  },
  {
   "cell_type": "markdown",
   "metadata": {},
   "source": [
    "## Visualizing the word vectors\n",
    "\n",
    "Below we'll use T-SNE to visualize how our high-dimensional word vectors cluster together. T-SNE is used to project these vectors into two dimensions while preserving local stucture. Check out [this post from Christopher Olah](http://colah.github.io/posts/2014-10-Visualizing-MNIST/) to learn more about T-SNE and other ways to visualize high-dimensional data."
   ]
  },
  {
   "cell_type": "code",
   "execution_count": null,
   "metadata": {
    "collapsed": true
   },
   "outputs": [],
   "source": [
    "%matplotlib inline\n",
    "%config InlineBackend.figure_format = 'retina'\n",
    "\n",
    "import matplotlib.pyplot as plt\n",
    "from sklearn.manifold import TSNE"
   ]
  },
  {
   "cell_type": "code",
   "execution_count": null,
   "metadata": {
    "collapsed": true
   },
   "outputs": [],
   "source": [
    "viz_words = 500\n",
    "tsne = TSNE()\n",
    "embed_tsne = tsne.fit_transform(embed_mat[:viz_words, :])"
   ]
  },
  {
   "cell_type": "code",
   "execution_count": null,
   "metadata": {
    "collapsed": true
   },
   "outputs": [],
   "source": [
    "fig, ax = plt.subplots(figsize=(14, 14))\n",
    "for idx in range(viz_words):\n",
    "    plt.scatter(*embed_tsne[idx, :], color='steelblue')\n",
    "    plt.annotate(int_to_vocab[idx], (embed_tsne[idx, 0], embed_tsne[idx, 1]), alpha=0.7)"
   ]
  }
 ],
 "metadata": {
  "kernelspec": {
   "display_name": "Python 3",
   "language": "python",
   "name": "python3"
  },
  "language_info": {
   "codemirror_mode": {
    "name": "ipython",
    "version": 3
   },
   "file_extension": ".py",
   "mimetype": "text/x-python",
   "name": "python",
   "nbconvert_exporter": "python",
   "pygments_lexer": "ipython3",
   "version": "3.5.2"
  }
 },
 "nbformat": 4,
 "nbformat_minor": 2
}
